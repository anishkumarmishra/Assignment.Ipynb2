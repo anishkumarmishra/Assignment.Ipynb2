{
  "nbformat": 4,
  "nbformat_minor": 0,
  "metadata": {
    "colab": {
      "provenance": []
    },
    "kernelspec": {
      "name": "python3",
      "display_name": "Python 3"
    },
    "language_info": {
      "name": "python"
    }
  },
  "cells": [
    {
      "cell_type": "markdown",
      "source": [
        "###**1.What are the two values of the Boolean data type? How do you write them?**\n",
        "\n",
        "##### **Answer** - Boolean type has only two possible values:\n",
        "True.\n",
        "False."
      ],
      "metadata": {
        "id": "Ix8GN_OZOoAG"
      }
    },
    {
      "cell_type": "code",
      "source": [
        "a =True\n",
        "b =False\n",
        "print(a)\n",
        "print(b)"
      ],
      "metadata": {
        "colab": {
          "base_uri": "https://localhost:8080/"
        },
        "id": "zWpyRvRRkcOZ",
        "outputId": "ef5d0e87-4385-441a-b668-05aab4cb6be6"
      },
      "execution_count": null,
      "outputs": [
        {
          "output_type": "stream",
          "name": "stdout",
          "text": [
            "True\n",
            "False\n"
          ]
        }
      ]
    },
    {
      "cell_type": "markdown",
      "source": [
        "###**2.What are the three different types of Boolean operators?**\n",
        "\n",
        "##### **Answer** - Below are three types of Boolean Operators which is basic boolean operators.\n",
        "1. and\n",
        "2.or\n",
        "3.not"
      ],
      "metadata": {
        "id": "bVNNrD-_hqBB"
      }
    },
    {
      "cell_type": "markdown",
      "source": [
        "###**3.Make a list of each Boolean operators truth table (i.e. every possible combination of Boolean values for the operator and what it evaluate ).**\n",
        "\n",
        "##### **Answer** - True and True is True.\n",
        "\n",
        "True and False is False.\n",
        "\n",
        "False and True is False.\n",
        "\n",
        "False and False is False.\n",
        "\n",
        "True or True is True.\n",
        "\n",
        "True or False is True.\n",
        "\n",
        "False or True is True.\n",
        "\n",
        "False or False is False.\n",
        "\n",
        "not True is False.\n",
        "\n",
        "not False is True.\n",
        "\n",
        "##True is 1 and False is 0\n",
        "####Truth Table for AND\n",
        "#####A B output\n",
        "#####0 0 0\n",
        "#####0 1 0\n",
        "#####1 0 0\n",
        "#####1 1 1\n",
        "####Truth Table for OR\n",
        "#####A B output\n",
        "#####0 0 0\n",
        "#####0 1 1\n",
        "#####1 0 1\n",
        "#####1 1 1\n",
        "####Truth Table for NOT\n",
        "#####A output\n",
        "#####0 1\n",
        "#####1 0"
      ],
      "metadata": {
        "id": "4nI4Ep_HjVXw"
      }
    },
    {
      "cell_type": "markdown",
      "source": [
        "###**4.What are the values of the following expressions?**\n",
        "#####**(5>4) and (3 == 5)**\n",
        "#####**not (5>4)**\n",
        "#####**(5>4) or (3 == 5)**\n",
        "#####**not ((5>4) or (3 == 5))**\n",
        "#####**(True and True) and (True == False)**\n",
        "#####**(not False) or (not True)**\n",
        "\n"
      ],
      "metadata": {
        "id": "KpWYcUxSpiCg"
      }
    },
    {
      "cell_type": "code",
      "source": [
        "print((5>4) and (3 == 5))\n",
        "print(not(5>4))\n",
        "print((5>4) or (3==5))\n",
        "print(not(5>4) or (3==5))\n",
        "print((True and True) and (True==False))\n",
        "print((not False) or (not True))"
      ],
      "metadata": {
        "colab": {
          "base_uri": "https://localhost:8080/"
        },
        "id": "yBIaGFpqqqpi",
        "outputId": "fdf6962f-8a9f-4298-cc46-9bb843bbecac"
      },
      "execution_count": null,
      "outputs": [
        {
          "output_type": "stream",
          "name": "stdout",
          "text": [
            "False\n",
            "False\n",
            "True\n",
            "False\n",
            "False\n",
            "True\n"
          ]
        }
      ]
    },
    {
      "cell_type": "markdown",
      "source": [
        "###**5.What are the six comparison operators?**\n",
        "\n",
        "#### **Answer** - <,>,<=,>=,= and !=\n",
        "\n",
        "##### less than, Greater than, Less than or Equal to, Greater than or Equal to, Equal to, Not Equal To"
      ],
      "metadata": {
        "id": "9OrXgZWSxxYQ"
      }
    },
    {
      "cell_type": "markdown",
      "source": [
        "####**6. How do you tell the difference between the equal to and assignment operators?Describe a condition and when you would use one.**\n",
        "\n",
        "######**Answer** - == is the equal to operator that compares two values and evaluates to a Boolean, while = is the assignment operator that stores a value in a variable.\n"
      ],
      "metadata": {
        "id": "-4oTLMbPfDyl"
      }
    },
    {
      "cell_type": "code",
      "source": [
        "A = 12\n",
        "B = 12\n",
        "\n",
        "print(A==B)"
      ],
      "metadata": {
        "colab": {
          "base_uri": "https://localhost:8080/"
        },
        "id": "geFewhPshnEf",
        "outputId": "a23eda0d-8502-4f5f-8986-1318fcc5f95c"
      },
      "execution_count": null,
      "outputs": [
        {
          "output_type": "stream",
          "name": "stdout",
          "text": [
            "True\n"
          ]
        }
      ]
    },
    {
      "cell_type": "markdown",
      "source": [
        "##7. Identify the three blocks in this code:\n",
        "#####spam = 0\n",
        "#####if spam == 10:\n",
        "#####print(&#39;eggs&#39;)\n",
        "#####if spam &gt; 5:\n",
        "#####print(&#39;bacon&#39;)\n",
        "#####else:\n",
        "#####print(&#39;ham&#39;)\n",
        "#####print(&#39;spam&#39;)\n",
        "#####print(&#39;spam&#39;)"
      ],
      "metadata": {
        "id": "d0LN3vSbjqTd"
      }
    },
    {
      "cell_type": "markdown",
      "source": [
        "####**Answer** - The three blocks are everything inside the if statement and the lines, print('bacon') and print('ham').\n",
        "\n",
        "####print('eggs')\n",
        "\n",
        "######if spam > 5:\n",
        "######    print('bacon')\n",
        "######else:\n",
        "######    print('ham')\n",
        "######print('spam')"
      ],
      "metadata": {
        "id": "JCBV3uND9GAX"
      }
    },
    {
      "cell_type": "markdown",
      "source": [
        "###**8.Write code that prints Hello if 1 is stored in spam, prints Howdy if 2 is stored in spam, and prints Greetings! if anything else is stored in spam.**\n",
        "\n",
        "##### **Answer** - The Code\n",
        "\n",
        "######if spam == 1:\n",
        "######    print('Hello')\n",
        "######elif spam == 2:\n",
        "######    print('Howdy')\n",
        "######else:\n",
        "######    print('Greetings!')"
      ],
      "metadata": {
        "id": "MpIgYyBq8F1s"
      }
    },
    {
      "cell_type": "markdown",
      "source": [
        "#####**9.If your programme is stuck in an endless loop, what keys you’ll press?**\n",
        "\n",
        "#####**Answer** - Press CTRL-C to stop a program stuck in an infinite loop."
      ],
      "metadata": {
        "id": "TYlZnqb3AcHA"
      }
    },
    {
      "cell_type": "markdown",
      "source": [
        "###**10. How can you tell the difference between break and continue?**\n",
        "\n",
        "###### **Answer** - the break statment will move the execution outside and just after a loop, the continue statment will move the execution to the start of the loop."
      ],
      "metadata": {
        "id": "WPgjEtjBMzXG"
      }
    },
    {
      "cell_type": "markdown",
      "source": [
        "###**11. In a for loop, what is the difference between range(10), range(0, 10), and range(0, 10, 1)?**\n",
        "\n",
        "##### **Answer** -They all do the same thing. The range(10) call ranges from 0 up to (but not including) 10, range(0, 10) explicitly tells the loop to start at 0, and range(0, 10, 1) explicitly tells the loop to increase the variable by 1 on each iteration."
      ],
      "metadata": {
        "id": "I8_AWl79O7wG"
      }
    },
    {
      "cell_type": "markdown",
      "source": [
        "####**12. Write a short program that prints the numbers 1 to 10 using a for loop. Then write an equivalent program that prints the numbers 1 to 10 using a while loop.**\n",
        "\n",
        "###### **Answer** -The code:\n",
        "\n",
        "\n",
        "######for i in range(1, 11):\n",
        "######    print(i)0\n",
        "######and:\n",
        "\n",
        "\n",
        "######i = 1\n",
        "######while i <= 10:\n",
        "######    print(i)\n",
        "######    i = i + 1 "
      ],
      "metadata": {
        "id": "HUNXKJ_8PnY-"
      }
    },
    {
      "cell_type": "markdown",
      "source": [
        "####**13. If you had a function named bacon() inside a module named spam, how would you call it after importing spam?**\n",
        "\n",
        "##### **Answer** - This function can be called with spam.bacon()."
      ],
      "metadata": {
        "id": "cONwo1v9Q2iV"
      }
    }
  ]
}